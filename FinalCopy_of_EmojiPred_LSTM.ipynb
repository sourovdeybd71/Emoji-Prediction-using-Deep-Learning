{
  "cells": [
    {
      "cell_type": "code",
      "execution_count": null,
      "metadata": {
        "id": "ERQpIN5qTbtx"
      },
      "outputs": [],
      "source": [
        "import numpy as np\n",
        "import pandas as pd\n",
        "import matplotlib.pyplot as plt\n",
        "import seaborn as sns\n",
        "\n",
        "import tensorflow as tf\n",
        "import tensorflow.keras"
      ]
    },
    {
      "cell_type": "code",
      "execution_count": null,
      "metadata": {
        "id": "5L9apimfTvXj"
      },
      "outputs": [],
      "source": [
        "df = pd.read_csv(\"cleaned_tweets.csv\")\n",
        "df.dropna(inplace=True)"
      ]
    },
    {
      "cell_type": "code",
      "execution_count": null,
      "metadata": {
        "id": "KYMK990aT1qh",
        "colab": {
          "base_uri": "https://localhost:8080/",
          "height": 423
        },
        "outputId": "c3b18997-31ba-4937-aae2-4e19358e6c41"
      },
      "outputs": [
        {
          "output_type": "execute_result",
          "data": {
            "text/plain": [
              "                                                   Tweet  Label\n",
              "0         little throwback favourite person   water wall      0\n",
              "1             glam   yesterday kcon makeup   featherette      7\n",
              "2      democracy plaza wake stunning outcome decision...     11\n",
              "3                   amp vilo   walt disney magic kingdom      0\n",
              "4                                    galaxy far far away      2\n",
              "...                                                  ...    ...\n",
              "49995  ootd love chain new ring putaringonit odesigne...      1\n",
              "49996  met santa olaf   north pole today   north pole...      0\n",
              "49997  new york night strideby herelocationnyc seemyc...     11\n",
              "49998              kiss birthday girl   helzberg diamond      0\n",
              "49999  dinner priceless viewthank s anniversarydinner...      9\n",
              "\n",
              "[49973 rows x 2 columns]"
            ],
            "text/html": [
              "\n",
              "  <div id=\"df-76b4960a-2c72-4479-86b5-e969311b7cd4\" class=\"colab-df-container\">\n",
              "    <div>\n",
              "<style scoped>\n",
              "    .dataframe tbody tr th:only-of-type {\n",
              "        vertical-align: middle;\n",
              "    }\n",
              "\n",
              "    .dataframe tbody tr th {\n",
              "        vertical-align: top;\n",
              "    }\n",
              "\n",
              "    .dataframe thead th {\n",
              "        text-align: right;\n",
              "    }\n",
              "</style>\n",
              "<table border=\"1\" class=\"dataframe\">\n",
              "  <thead>\n",
              "    <tr style=\"text-align: right;\">\n",
              "      <th></th>\n",
              "      <th>Tweet</th>\n",
              "      <th>Label</th>\n",
              "    </tr>\n",
              "  </thead>\n",
              "  <tbody>\n",
              "    <tr>\n",
              "      <th>0</th>\n",
              "      <td>little throwback favourite person   water wall</td>\n",
              "      <td>0</td>\n",
              "    </tr>\n",
              "    <tr>\n",
              "      <th>1</th>\n",
              "      <td>glam   yesterday kcon makeup   featherette</td>\n",
              "      <td>7</td>\n",
              "    </tr>\n",
              "    <tr>\n",
              "      <th>2</th>\n",
              "      <td>democracy plaza wake stunning outcome decision...</td>\n",
              "      <td>11</td>\n",
              "    </tr>\n",
              "    <tr>\n",
              "      <th>3</th>\n",
              "      <td>amp vilo   walt disney magic kingdom</td>\n",
              "      <td>0</td>\n",
              "    </tr>\n",
              "    <tr>\n",
              "      <th>4</th>\n",
              "      <td>galaxy far far away</td>\n",
              "      <td>2</td>\n",
              "    </tr>\n",
              "    <tr>\n",
              "      <th>...</th>\n",
              "      <td>...</td>\n",
              "      <td>...</td>\n",
              "    </tr>\n",
              "    <tr>\n",
              "      <th>49995</th>\n",
              "      <td>ootd love chain new ring putaringonit odesigne...</td>\n",
              "      <td>1</td>\n",
              "    </tr>\n",
              "    <tr>\n",
              "      <th>49996</th>\n",
              "      <td>met santa olaf   north pole today   north pole...</td>\n",
              "      <td>0</td>\n",
              "    </tr>\n",
              "    <tr>\n",
              "      <th>49997</th>\n",
              "      <td>new york night strideby herelocationnyc seemyc...</td>\n",
              "      <td>11</td>\n",
              "    </tr>\n",
              "    <tr>\n",
              "      <th>49998</th>\n",
              "      <td>kiss birthday girl   helzberg diamond</td>\n",
              "      <td>0</td>\n",
              "    </tr>\n",
              "    <tr>\n",
              "      <th>49999</th>\n",
              "      <td>dinner priceless viewthank s anniversarydinner...</td>\n",
              "      <td>9</td>\n",
              "    </tr>\n",
              "  </tbody>\n",
              "</table>\n",
              "<p>49973 rows × 2 columns</p>\n",
              "</div>\n",
              "    <div class=\"colab-df-buttons\">\n",
              "\n",
              "  <div class=\"colab-df-container\">\n",
              "    <button class=\"colab-df-convert\" onclick=\"convertToInteractive('df-76b4960a-2c72-4479-86b5-e969311b7cd4')\"\n",
              "            title=\"Convert this dataframe to an interactive table.\"\n",
              "            style=\"display:none;\">\n",
              "\n",
              "  <svg xmlns=\"http://www.w3.org/2000/svg\" height=\"24px\" viewBox=\"0 -960 960 960\">\n",
              "    <path d=\"M120-120v-720h720v720H120Zm60-500h600v-160H180v160Zm220 220h160v-160H400v160Zm0 220h160v-160H400v160ZM180-400h160v-160H180v160Zm440 0h160v-160H620v160ZM180-180h160v-160H180v160Zm440 0h160v-160H620v160Z\"/>\n",
              "  </svg>\n",
              "    </button>\n",
              "\n",
              "  <style>\n",
              "    .colab-df-container {\n",
              "      display:flex;\n",
              "      gap: 12px;\n",
              "    }\n",
              "\n",
              "    .colab-df-convert {\n",
              "      background-color: #E8F0FE;\n",
              "      border: none;\n",
              "      border-radius: 50%;\n",
              "      cursor: pointer;\n",
              "      display: none;\n",
              "      fill: #1967D2;\n",
              "      height: 32px;\n",
              "      padding: 0 0 0 0;\n",
              "      width: 32px;\n",
              "    }\n",
              "\n",
              "    .colab-df-convert:hover {\n",
              "      background-color: #E2EBFA;\n",
              "      box-shadow: 0px 1px 2px rgba(60, 64, 67, 0.3), 0px 1px 3px 1px rgba(60, 64, 67, 0.15);\n",
              "      fill: #174EA6;\n",
              "    }\n",
              "\n",
              "    .colab-df-buttons div {\n",
              "      margin-bottom: 4px;\n",
              "    }\n",
              "\n",
              "    [theme=dark] .colab-df-convert {\n",
              "      background-color: #3B4455;\n",
              "      fill: #D2E3FC;\n",
              "    }\n",
              "\n",
              "    [theme=dark] .colab-df-convert:hover {\n",
              "      background-color: #434B5C;\n",
              "      box-shadow: 0px 1px 3px 1px rgba(0, 0, 0, 0.15);\n",
              "      filter: drop-shadow(0px 1px 2px rgba(0, 0, 0, 0.3));\n",
              "      fill: #FFFFFF;\n",
              "    }\n",
              "  </style>\n",
              "\n",
              "    <script>\n",
              "      const buttonEl =\n",
              "        document.querySelector('#df-76b4960a-2c72-4479-86b5-e969311b7cd4 button.colab-df-convert');\n",
              "      buttonEl.style.display =\n",
              "        google.colab.kernel.accessAllowed ? 'block' : 'none';\n",
              "\n",
              "      async function convertToInteractive(key) {\n",
              "        const element = document.querySelector('#df-76b4960a-2c72-4479-86b5-e969311b7cd4');\n",
              "        const dataTable =\n",
              "          await google.colab.kernel.invokeFunction('convertToInteractive',\n",
              "                                                    [key], {});\n",
              "        if (!dataTable) return;\n",
              "\n",
              "        const docLinkHtml = 'Like what you see? Visit the ' +\n",
              "          '<a target=\"_blank\" href=https://colab.research.google.com/notebooks/data_table.ipynb>data table notebook</a>'\n",
              "          + ' to learn more about interactive tables.';\n",
              "        element.innerHTML = '';\n",
              "        dataTable['output_type'] = 'display_data';\n",
              "        await google.colab.output.renderOutput(dataTable, element);\n",
              "        const docLink = document.createElement('div');\n",
              "        docLink.innerHTML = docLinkHtml;\n",
              "        element.appendChild(docLink);\n",
              "      }\n",
              "    </script>\n",
              "  </div>\n",
              "\n",
              "\n",
              "<div id=\"df-5dc8a84b-dcbb-41b9-8bc1-2776cab93dd5\">\n",
              "  <button class=\"colab-df-quickchart\" onclick=\"quickchart('df-5dc8a84b-dcbb-41b9-8bc1-2776cab93dd5')\"\n",
              "            title=\"Suggest charts.\"\n",
              "            style=\"display:none;\">\n",
              "\n",
              "<svg xmlns=\"http://www.w3.org/2000/svg\" height=\"24px\"viewBox=\"0 0 24 24\"\n",
              "     width=\"24px\">\n",
              "    <g>\n",
              "        <path d=\"M19 3H5c-1.1 0-2 .9-2 2v14c0 1.1.9 2 2 2h14c1.1 0 2-.9 2-2V5c0-1.1-.9-2-2-2zM9 17H7v-7h2v7zm4 0h-2V7h2v10zm4 0h-2v-4h2v4z\"/>\n",
              "    </g>\n",
              "</svg>\n",
              "  </button>\n",
              "\n",
              "<style>\n",
              "  .colab-df-quickchart {\n",
              "      --bg-color: #E8F0FE;\n",
              "      --fill-color: #1967D2;\n",
              "      --hover-bg-color: #E2EBFA;\n",
              "      --hover-fill-color: #174EA6;\n",
              "      --disabled-fill-color: #AAA;\n",
              "      --disabled-bg-color: #DDD;\n",
              "  }\n",
              "\n",
              "  [theme=dark] .colab-df-quickchart {\n",
              "      --bg-color: #3B4455;\n",
              "      --fill-color: #D2E3FC;\n",
              "      --hover-bg-color: #434B5C;\n",
              "      --hover-fill-color: #FFFFFF;\n",
              "      --disabled-bg-color: #3B4455;\n",
              "      --disabled-fill-color: #666;\n",
              "  }\n",
              "\n",
              "  .colab-df-quickchart {\n",
              "    background-color: var(--bg-color);\n",
              "    border: none;\n",
              "    border-radius: 50%;\n",
              "    cursor: pointer;\n",
              "    display: none;\n",
              "    fill: var(--fill-color);\n",
              "    height: 32px;\n",
              "    padding: 0;\n",
              "    width: 32px;\n",
              "  }\n",
              "\n",
              "  .colab-df-quickchart:hover {\n",
              "    background-color: var(--hover-bg-color);\n",
              "    box-shadow: 0 1px 2px rgba(60, 64, 67, 0.3), 0 1px 3px 1px rgba(60, 64, 67, 0.15);\n",
              "    fill: var(--button-hover-fill-color);\n",
              "  }\n",
              "\n",
              "  .colab-df-quickchart-complete:disabled,\n",
              "  .colab-df-quickchart-complete:disabled:hover {\n",
              "    background-color: var(--disabled-bg-color);\n",
              "    fill: var(--disabled-fill-color);\n",
              "    box-shadow: none;\n",
              "  }\n",
              "\n",
              "  .colab-df-spinner {\n",
              "    border: 2px solid var(--fill-color);\n",
              "    border-color: transparent;\n",
              "    border-bottom-color: var(--fill-color);\n",
              "    animation:\n",
              "      spin 1s steps(1) infinite;\n",
              "  }\n",
              "\n",
              "  @keyframes spin {\n",
              "    0% {\n",
              "      border-color: transparent;\n",
              "      border-bottom-color: var(--fill-color);\n",
              "      border-left-color: var(--fill-color);\n",
              "    }\n",
              "    20% {\n",
              "      border-color: transparent;\n",
              "      border-left-color: var(--fill-color);\n",
              "      border-top-color: var(--fill-color);\n",
              "    }\n",
              "    30% {\n",
              "      border-color: transparent;\n",
              "      border-left-color: var(--fill-color);\n",
              "      border-top-color: var(--fill-color);\n",
              "      border-right-color: var(--fill-color);\n",
              "    }\n",
              "    40% {\n",
              "      border-color: transparent;\n",
              "      border-right-color: var(--fill-color);\n",
              "      border-top-color: var(--fill-color);\n",
              "    }\n",
              "    60% {\n",
              "      border-color: transparent;\n",
              "      border-right-color: var(--fill-color);\n",
              "    }\n",
              "    80% {\n",
              "      border-color: transparent;\n",
              "      border-right-color: var(--fill-color);\n",
              "      border-bottom-color: var(--fill-color);\n",
              "    }\n",
              "    90% {\n",
              "      border-color: transparent;\n",
              "      border-bottom-color: var(--fill-color);\n",
              "    }\n",
              "  }\n",
              "</style>\n",
              "\n",
              "  <script>\n",
              "    async function quickchart(key) {\n",
              "      const quickchartButtonEl =\n",
              "        document.querySelector('#' + key + ' button');\n",
              "      quickchartButtonEl.disabled = true;  // To prevent multiple clicks.\n",
              "      quickchartButtonEl.classList.add('colab-df-spinner');\n",
              "      try {\n",
              "        const charts = await google.colab.kernel.invokeFunction(\n",
              "            'suggestCharts', [key], {});\n",
              "      } catch (error) {\n",
              "        console.error('Error during call to suggestCharts:', error);\n",
              "      }\n",
              "      quickchartButtonEl.classList.remove('colab-df-spinner');\n",
              "      quickchartButtonEl.classList.add('colab-df-quickchart-complete');\n",
              "    }\n",
              "    (() => {\n",
              "      let quickchartButtonEl =\n",
              "        document.querySelector('#df-5dc8a84b-dcbb-41b9-8bc1-2776cab93dd5 button');\n",
              "      quickchartButtonEl.style.display =\n",
              "        google.colab.kernel.accessAllowed ? 'block' : 'none';\n",
              "    })();\n",
              "  </script>\n",
              "</div>\n",
              "    </div>\n",
              "  </div>\n"
            ]
          },
          "metadata": {},
          "execution_count": 3
        }
      ],
      "source": [
        "df"
      ]
    },
    {
      "cell_type": "code",
      "execution_count": null,
      "metadata": {
        "id": "NNcUK5wkT2zp"
      },
      "outputs": [],
      "source": [
        "X = df[\"Tweet\"].values\n",
        "y = df[\"Label\"].values"
      ]
    },
    {
      "cell_type": "code",
      "execution_count": null,
      "metadata": {
        "id": "QbbV1lwCUX5q"
      },
      "outputs": [],
      "source": [
        "from imblearn.over_sampling import RandomOverSampler\n",
        "\n",
        "os = RandomOverSampler(random_state=42)\n",
        "X = X.reshape(-1,1)\n",
        "X, y = os.fit_resample(X, y)"
      ]
    },
    {
      "cell_type": "code",
      "execution_count": null,
      "metadata": {
        "id": "65TLnvuqUZXx",
        "colab": {
          "base_uri": "https://localhost:8080/"
        },
        "outputId": "20573a31-4947-43e8-ff03-ee387fc85c7e"
      },
      "outputs": [
        {
          "output_type": "execute_result",
          "data": {
            "text/plain": [
              "(215140,)"
            ]
          },
          "metadata": {},
          "execution_count": 6
        }
      ],
      "source": [
        "X = X.reshape(-1,)\n",
        "X.shape\n"
      ]
    },
    {
      "cell_type": "code",
      "execution_count": null,
      "metadata": {
        "id": "IKNJolR3c8mz",
        "colab": {
          "base_uri": "https://localhost:8080/"
        },
        "outputId": "7c68fbc5-c512-4bab-dbad-110cfecb525c"
      },
      "outputs": [
        {
          "output_type": "execute_result",
          "data": {
            "text/plain": [
              "array(['little throwback favourite person   water wall',\n",
              "       'glam   yesterday kcon makeup   featherette',\n",
              "       'democracy plaza wake stunning outcome decision   nbc news', ...,\n",
              "       'cute americasnexttopmodel luckstrikesnyc bepatientandwaitonit justdonatetosay   lucky',\n",
              "       'story life boymom momlife mysnuggieissoiled',\n",
              "       'work today love snow theweatherman americanninjawarrior   city norwalk'],\n",
              "      dtype=object)"
            ]
          },
          "metadata": {},
          "execution_count": 7
        }
      ],
      "source": [
        "X"
      ]
    },
    {
      "cell_type": "code",
      "execution_count": null,
      "metadata": {
        "id": "CCWbDk2reoDQ"
      },
      "outputs": [],
      "source": [
        "from keras.preprocessing.text import Tokenizer\n",
        "\n",
        "tokenizer = Tokenizer(num_words=80000)\n",
        "tokenizer.fit_on_texts(X)"
      ]
    },
    {
      "cell_type": "code",
      "execution_count": null,
      "metadata": {
        "id": "kRrbPVW9eoGA",
        "colab": {
          "base_uri": "https://localhost:8080/"
        },
        "outputId": "1f71bb7c-3be4-48ce-e60a-cd0cb411cc38"
      },
      "outputs": [
        {
          "output_type": "stream",
          "name": "stdout",
          "text": [
            "Text \n",
            " ['little throwback favourite person   water wall'\n",
            " 'glam   yesterday kcon makeup   featherette'\n",
            " 'democracy plaza wake stunning outcome decision   nbc news'\n",
            " 'amp vilo   walt disney magic kingdom' '  galaxy far far away'\n",
            " 'dinner fla tonight   panseared salmon couscous veggie salad yum dinner florida salmon'\n",
            " 'fav senior game congrats beating west   west salem'\n",
            " 'got formal best friend   phi mu jsu'\n",
            " 'cause miss little homies throwback cousinlove   indiana university'\n",
            " 'birthday kiss   madison wisconsin'] \n",
            "\n",
            "Sequences\n"
          ]
        },
        {
          "output_type": "execute_result",
          "data": {
            "text/plain": [
              "[[25, 328, 1673, 312, 509, 674],\n",
              " [2794, 191, 23386, 525, 23387],\n",
              " [6998, 539, 936, 1154, 8457, 2258, 5308, 1394],\n",
              " [6, 43157, 399, 57, 130, 240],\n",
              " [2405, 606, 606, 422],\n",
              " [141, 14841, 36, 43158, 2425, 43159, 3955, 1494, 1618, 141, 43, 2425],\n",
              " [373, 334, 97, 413, 4782, 137, 137, 2406],\n",
              " [18, 947, 19, 22, 876, 2606, 26955],\n",
              " [388, 86, 25, 1513, 328, 7281, 442, 16],\n",
              " [28, 564, 527, 696]]"
            ]
          },
          "metadata": {},
          "execution_count": 9
        }
      ],
      "source": [
        "print(\"Text \\n\",X[:10],'\\n')\n",
        "\n",
        "X_seqs = tokenizer.texts_to_sequences(X)\n",
        "print(\"Sequences\")\n",
        "X_seqs[:10]"
      ]
    },
    {
      "cell_type": "code",
      "source": [
        "lens = [len(seq) for seq in X_seqs]\n",
        "sns.countplot(x=lens)\n",
        "plt.show()"
      ],
      "metadata": {
        "colab": {
          "base_uri": "https://localhost:8080/",
          "height": 430
        },
        "id": "l7b76Fj6NYov",
        "outputId": "408bf52d-f446-40a3-ca2e-e4d7b34264a3"
      },
      "execution_count": null,
      "outputs": [
        {
          "output_type": "display_data",
          "data": {
            "text/plain": [
              "<Figure size 640x480 with 1 Axes>"
            ],
            "image/png": "[encoded data removed]"
          },
          "metadata": {}
        }
      ]
    },
    {
      "cell_type": "code",
      "execution_count": null,
      "metadata": {
        "id": "mzOYGbdxfIsF",
        "colab": {
          "base_uri": "https://localhost:8080/"
        },
        "outputId": "58c94048-d608-4087-f15b-098cbc30d642"
      },
      "outputs": [
        {
          "output_type": "stream",
          "name": "stdout",
          "text": [
            "Word Mappings\n",
            "\n",
            "Index:  1 -> love\n",
            "Index:  2 -> new\n",
            "Index:  3 -> day\n",
            "Index:  4 -> nt\n",
            "Index:  5 -> happy\n",
            "Index:  6 -> amp\n",
            "Index:  7 -> beach\n",
            "Index:  8 -> christmas\n",
            "Index:  9 -> time\n"
          ]
        }
      ],
      "source": [
        "idx2words = tokenizer.index_word\n",
        "\n",
        "print(\"Word Mappings\\n\")\n",
        "for i in range(1,10):\n",
        "    print(\"Index: \",i, \"->\",idx2words[i])"
      ]
    },
    {
      "cell_type": "code",
      "execution_count": null,
      "metadata": {
        "id": "lrPxRXwifPNK",
        "colab": {
          "base_uri": "https://localhost:8080/"
        },
        "outputId": "a5f917a0-e0ae-4af8-8d2d-9198fb257868"
      },
      "outputs": [
        {
          "output_type": "stream",
          "name": "stdout",
          "text": [
            "Vocabulary size : 54747\n"
          ]
        }
      ],
      "source": [
        "vocab_size = len(tokenizer.index_word)\n",
        "print(\"Vocabulary size :\",len(tokenizer.index_word))"
      ]
    },
    {
      "cell_type": "code",
      "execution_count": null,
      "metadata": {
        "id": "1A5B_IBKffoa",
        "colab": {
          "base_uri": "https://localhost:8080/",
          "height": 430
        },
        "outputId": "070e9a1f-b684-444f-ef72-be8c61165970"
      },
      "outputs": [
        {
          "output_type": "display_data",
          "data": {
            "text/plain": [
              "<Figure size 640x480 with 1 Axes>"
            ],
            "image/png": "[encoded data removed]"
          },
          "metadata": {}
        }
      ],
      "source": [
        "lens = [len(seq) for seq in X_seqs_pd]\n",
        "sns.countplot(x=lens)\n",
        "plt.show()"
      ]
    },
    {
      "cell_type": "code",
      "execution_count": null,
      "metadata": {
        "id": "8lpO2lEVf3_q"
      },
      "outputs": [],
      "source": [
        "\n",
        "from keras.preprocessing.sequence import pad_sequences\n",
        "\n",
        "max_len=40\n",
        "X_seqs_pd = pad_sequences(X_seqs, truncating=\"pre\", padding=\"pre\", maxlen=max_len)"
      ]
    },
    {
      "cell_type": "code",
      "execution_count": null,
      "metadata": {
        "id": "MaEVoLMVgtaq",
        "colab": {
          "base_uri": "https://localhost:8080/"
        },
        "outputId": "62256a7d-5f2b-44d2-fb77-94ae653e1dde"
      },
      "outputs": [
        {
          "output_type": "stream",
          "name": "stdout",
          "text": [
            "Before Padding\n",
            "[[25, 328, 1673, 312, 509, 674]]\n",
            "\n",
            "After Padding\n",
            "[[   0    0    0    0    0    0    0    0    0    0    0    0    0    0\n",
            "     0    0    0    0    0    0    0    0    0    0    0    0    0    0\n",
            "     0    0    0    0    0    0   25  328 1673  312  509  674]]\n"
          ]
        }
      ],
      "source": [
        "print(\"Before Padding\")\n",
        "print(X_seqs[:1])\n",
        "\n",
        "print(\"\\nAfter Padding\")\n",
        "print(X_seqs_pd[:1])"
      ]
    },
    {
      "cell_type": "code",
      "execution_count": null,
      "metadata": {
        "id": "hto_qmaKgxec",
        "colab": {
          "base_uri": "https://localhost:8080/"
        },
        "outputId": "659587fa-e565-469a-ee02-385b510b1506"
      },
      "outputs": [
        {
          "output_type": "stream",
          "name": "stdout",
          "text": [
            "Training X Dim  (150598, 40)\n",
            "Training y Dim  (150598,)\n",
            "Test X Dim  (64542, 40)\n",
            "Test y Dim  (64542,)\n"
          ]
        }
      ],
      "source": [
        "from sklearn.model_selection import train_test_split\n",
        "\n",
        "X_train, X_test ,y_train, y_test = train_test_split(X_seqs_pd, y, test_size=0.3, random_state=105)\n",
        "print(\"Training X Dim \",X_train.shape)\n",
        "print(\"Training y Dim \",y_train.shape)\n",
        "\n",
        "print(\"Test X Dim \",X_test.shape)\n",
        "print(\"Test y Dim \",y_test.shape)"
      ]
    },
    {
      "cell_type": "code",
      "execution_count": null,
      "metadata": {
        "id": "ZsdsZFIThL_-",
        "colab": {
          "base_uri": "https://localhost:8080/"
        },
        "outputId": "671881a4-4a2b-44a3-a4e8-2e316371a143"
      },
      "outputs": [
        {
          "output_type": "stream",
          "name": "stdout",
          "text": [
            "Model: \"sequential_1\"\n",
            "_________________________________________________________________\n",
            " Layer (type)                Output Shape              Param #   \n",
            "=================================================================\n",
            " embedding_1 (Embedding)     (None, 40, 20)            1094960   \n",
            "                                                                 \n",
            " lstm_2 (LSTM)               (None, 40, 80)            32320     \n",
            "                                                                 \n",
            " dropout_2 (Dropout)         (None, 40, 80)            0         \n",
            "                                                                 \n",
            " lstm_3 (LSTM)               (None, 40)                19360     \n",
            "                                                                 \n",
            " dropout_3 (Dropout)         (None, 40)                0         \n",
            "                                                                 \n",
            " dense_1 (Dense)             (None, 20)                820       \n",
            "                                                                 \n",
            "=================================================================\n",
            "Total params: 1147460 (4.38 MB)\n",
            "Trainable params: 1147460 (4.38 MB)\n",
            "Non-trainable params: 0 (0.00 Byte)\n",
            "_________________________________________________________________\n"
          ]
        }
      ],
      "source": [
        "from keras.models import Sequential\n",
        "from keras.layers import Dropout, Dense, LSTM, Embedding\n",
        "\n",
        "vocabulary_size = vocab_size\n",
        "seq_len = 40\n",
        "#embedded vectors [vector size for each word]\n",
        "embed_len=20\n",
        "\n",
        "model = Sequential()\n",
        "model.add(Embedding(vocabulary_size+1, embed_len, input_length=seq_len))\n",
        "model.add(LSTM(units = 80, return_sequences=True))\n",
        "model.add(Dropout(0.5))\n",
        "model.add(LSTM(units = 40))\n",
        "model.add(Dropout(0.5))\n",
        "model.add(Dense(units=20, activation='softmax'))\n",
        "model.summary()"
      ]
    },
    {
      "cell_type": "code",
      "execution_count": null,
      "metadata": {
        "id": "KeJ6NiNLhasg"
      },
      "outputs": [],
      "source": [
        "# model.compile(optimizer='adam', loss='sparse_categorical_crossentropy', metrics=['accuracy'])\n",
        "model.compile(loss = 'categorical_crossentropy',\n",
        "             optimizer = \"adam\",\n",
        "             metrics=[\"accuracy\"])"
      ]
    },
    {
      "cell_type": "code",
      "execution_count": null,
      "metadata": {
        "id": "QlY22SSdha1_"
      },
      "outputs": [],
      "source": [
        "from keras.utils import to_categorical\n",
        "\n",
        "y_train_cat = to_categorical(y_train)\n",
        "y_test_cat = to_categorical(y_test)"
      ]
    },
    {
      "cell_type": "code",
      "execution_count": null,
      "metadata": {
        "colab": {
          "base_uri": "https://localhost:8080/"
        },
        "id": "73_xSNimha9P",
        "outputId": "5257da74-3d59-404c-ef07-2f69c808f022"
      },
      "outputs": [
        {
          "output_type": "stream",
          "name": "stdout",
          "text": [
            "Epoch 1/20\n",
            "1177/1177 [==============================] - 209s 173ms/step - loss: 2.4004 - accuracy: 0.2690 - val_loss: 1.7216 - val_accuracy: 0.5007\n",
            "Epoch 2/20\n",
            "1177/1177 [==============================] - 207s 176ms/step - loss: 1.4454 - accuracy: 0.5891 - val_loss: 1.1799 - val_accuracy: 0.6750\n",
            "Epoch 3/20\n",
            "1177/1177 [==============================] - 203s 173ms/step - loss: 1.0304 - accuracy: 0.7173 - val_loss: 0.9586 - val_accuracy: 0.7382\n",
            "Epoch 4/20\n",
            "1177/1177 [==============================] - 203s 172ms/step - loss: 0.8162 - accuracy: 0.7776 - val_loss: 0.8404 - val_accuracy: 0.7756\n",
            "Epoch 5/20\n",
            "1177/1177 [==============================] - 205s 174ms/step - loss: 0.6843 - accuracy: 0.8140 - val_loss: 0.7775 - val_accuracy: 0.7924\n",
            "Epoch 6/20\n",
            "1177/1177 [==============================] - 203s 173ms/step - loss: 0.5914 - accuracy: 0.8404 - val_loss: 0.7388 - val_accuracy: 0.8132\n",
            "Epoch 7/20\n",
            "1177/1177 [==============================] - 204s 173ms/step - loss: 0.5286 - accuracy: 0.8569 - val_loss: 0.7009 - val_accuracy: 0.8232\n",
            "Epoch 8/20\n",
            "1177/1177 [==============================] - 206s 175ms/step - loss: 0.4731 - accuracy: 0.8706 - val_loss: 0.6868 - val_accuracy: 0.8318\n",
            "Epoch 9/20\n",
            "1177/1177 [==============================] - 203s 172ms/step - loss: 0.4353 - accuracy: 0.8801 - val_loss: 0.6782 - val_accuracy: 0.8396\n",
            "Epoch 10/20\n",
            "1177/1177 [==============================] - 180s 153ms/step - loss: 0.4050 - accuracy: 0.8891 - val_loss: 0.6720 - val_accuracy: 0.8448\n",
            "Epoch 11/20\n",
            "1177/1177 [==============================] - 199s 169ms/step - loss: 0.3768 - accuracy: 0.8969 - val_loss: 0.6732 - val_accuracy: 0.8497\n",
            "Epoch 12/20\n",
            "1177/1177 [==============================] - 181s 154ms/step - loss: 0.3549 - accuracy: 0.9018 - val_loss: 0.6546 - val_accuracy: 0.8564\n",
            "Epoch 13/20\n",
            "1177/1177 [==============================] - 202s 172ms/step - loss: 0.3355 - accuracy: 0.9063 - val_loss: 0.6429 - val_accuracy: 0.8591\n",
            "Epoch 14/20\n",
            "1177/1177 [==============================] - 201s 171ms/step - loss: 0.3174 - accuracy: 0.9117 - val_loss: 0.6392 - val_accuracy: 0.8639\n",
            "Epoch 15/20\n",
            "1177/1177 [==============================] - 181s 154ms/step - loss: 0.3000 - accuracy: 0.9168 - val_loss: 0.6654 - val_accuracy: 0.8657\n",
            "Epoch 16/20\n",
            "1177/1177 [==============================] - 203s 172ms/step - loss: 0.2890 - accuracy: 0.9178 - val_loss: 0.6269 - val_accuracy: 0.8703\n",
            "Epoch 17/20\n",
            "1177/1177 [==============================] - 181s 154ms/step - loss: 0.2761 - accuracy: 0.9231 - val_loss: 0.6498 - val_accuracy: 0.8703\n",
            "Epoch 18/20\n",
            "1177/1177 [==============================] - 199s 169ms/step - loss: 0.2633 - accuracy: 0.9257 - val_loss: 0.6235 - val_accuracy: 0.8756\n",
            "Epoch 19/20\n",
            "1177/1177 [==============================] - 199s 169ms/step - loss: 0.2513 - accuracy: 0.9284 - val_loss: 0.6372 - val_accuracy: 0.8771\n",
            "Epoch 20/20\n",
            "1177/1177 [==============================] - 206s 175ms/step - loss: 0.2469 - accuracy: 0.9307 - val_loss: 0.6534 - val_accuracy: 0.8779\n"
          ]
        },
        {
          "output_type": "execute_result",
          "data": {
            "text/plain": [
              "<keras.src.callbacks.History at 0x7cffd78bf730>"
            ]
          },
          "metadata": {},
          "execution_count": 22
        }
      ],
      "source": [
        "\n",
        "model.fit(X_train, y_train_cat, batch_size=128, epochs = 20, shuffle=True,\n",
        "          validation_data=(X_test, y_test_cat))"
      ]
    },
    {
      "cell_type": "code",
      "execution_count": null,
      "metadata": {
        "id": "EDfPF6AIyxej",
        "colab": {
          "base_uri": "https://localhost:8080/"
        },
        "outputId": "202db101-2cbd-487e-c736-4f57aabbbec2"
      },
      "outputs": [
        {
          "output_type": "stream",
          "name": "stderr",
          "text": [
            "/usr/local/lib/python3.10/dist-packages/keras/src/engine/training.py:3079: UserWarning: You are saving your model as an HDF5 file via `model.save()`. This file format is considered legacy. We recommend using instead the native Keras format, e.g. `model.save('my_model.keras')`.\n",
            "  saving_api.save_model(\n"
          ]
        }
      ],
      "source": [
        "model.save(\"emojiPred_lstmModel.h5\")"
      ]
    },
    {
      "cell_type": "code",
      "execution_count": null,
      "metadata": {
        "id": "TANhpOPsyxhZ",
        "colab": {
          "base_uri": "https://localhost:8080/"
        },
        "outputId": "d5d20b21-0ad4-45b2-e30e-4c209929242c"
      },
      "outputs": [
        {
          "output_type": "stream",
          "name": "stdout",
          "text": [
            "505/505 [==============================] - 28s 54ms/step - loss: 0.6534 - accuracy: 0.8779\n"
          ]
        },
        {
          "output_type": "execute_result",
          "data": {
            "text/plain": [
              "[0.6534207463264465, 0.8779244422912598]"
            ]
          },
          "metadata": {},
          "execution_count": 31
        }
      ],
      "source": [
        "batch_size=128\n",
        "model.evaluate(X_test, y_test_cat, batch_size=batch_size)"
      ]
    },
    {
      "cell_type": "code",
      "source": [
        "from sklearn.metrics import classification_report, confusion_matrix\n",
        "\n",
        "predicted_probabilities = model.predict(X_test)\n",
        "\n",
        "predicted_classes = np.argmax(predicted_probabilities, axis=1)\n",
        "\n",
        "true_classes = np.argmax(y_test_cat, axis=1)\n",
        "\n",
        "print(classification_report(true_classes, predicted_classes))"
      ],
      "metadata": {
        "colab": {
          "base_uri": "https://localhost:8080/"
        },
        "id": "atWRNQMmPSw5",
        "outputId": "67da7d12-ca57-4e0f-aec0-e291ed5eaf53"
      },
      "execution_count": null,
      "outputs": [
        {
          "output_type": "stream",
          "name": "stdout",
          "text": [
            "2017/2017 [==============================] - 33s 16ms/step\n",
            "              precision    recall  f1-score   support\n",
            "\n",
            "           0       0.43      0.25      0.31      3210\n",
            "           1       0.73      0.63      0.68      3238\n",
            "           2       0.81      0.73      0.77      3269\n",
            "           3       0.81      0.82      0.82      3240\n",
            "           4       0.90      0.92      0.91      3197\n",
            "           5       0.87      0.85      0.86      3247\n",
            "           6       0.87      0.93      0.90      3251\n",
            "           7       0.86      0.92      0.89      3108\n",
            "           8       0.89      0.90      0.90      3226\n",
            "           9       0.87      0.92      0.89      3185\n",
            "          10       0.95      0.97      0.96      3221\n",
            "          11       0.91      0.97      0.94      3262\n",
            "          12       0.93      0.98      0.95      3244\n",
            "          13       0.91      0.95      0.93      3188\n",
            "          14       0.91      0.96      0.94      3335\n",
            "          15       0.94      0.96      0.95      3249\n",
            "          16       0.93      0.96      0.94      3232\n",
            "          17       0.95      0.99      0.97      3183\n",
            "          18       0.92      0.97      0.95      3209\n",
            "          19       0.94      0.97      0.96      3248\n",
            "\n",
            "    accuracy                           0.88     64542\n",
            "   macro avg       0.87      0.88      0.87     64542\n",
            "weighted avg       0.87      0.88      0.87     64542\n",
            "\n"
          ]
        }
      ]
    },
    {
      "cell_type": "code",
      "execution_count": null,
      "metadata": {
        "id": "RiWe8V7Jyxkc"
      },
      "outputs": [],
      "source": [
        "import seaborn as sns\n",
        "import matplotlib.pyplot as plt\n",
        "from sklearn.metrics import confusion_matrix\n",
        "\n",
        "cm = confusion_matrix(true_classes, predicted_classes)\n"
      ]
    },
    {
      "cell_type": "code",
      "execution_count": null,
      "metadata": {
        "id": "BbgtcSRgzn0E",
        "colab": {
          "base_uri": "https://localhost:8080/",
          "height": 872
        },
        "outputId": "b3ff5fce-a514-46c9-9b9c-c0cb91a0e2ba"
      },
      "outputs": [
        {
          "output_type": "display_data",
          "data": {
            "text/plain": [
              "<Figure size 1200x1000 with 2 Axes>"
            ],
            "image/png": "[encoded data removed]"
          },
          "metadata": {}
        }
      ],
      "source": [
        "\n",
        "plt.figure(figsize=(12, 10))\n",
        "sns.heatmap(cm, annot=True, fmt=\"d\", cmap=\"Blues\", linewidths=0.5)\n",
        "plt.xlabel('Predicted')\n",
        "plt.ylabel('True')\n",
        "plt.title('Confusion Matrix Heatmap for LSTM')\n",
        "plt.show()"
      ]
    },
    {
      "cell_type": "code",
      "execution_count": null,
      "metadata": {
        "id": "-QNnc748zn2x",
        "colab": {
          "base_uri": "https://localhost:8080/"
        },
        "outputId": "7eaf35b4-c3c1-49a5-96ba-5d156bea93da"
      },
      "outputs": [
        {
          "output_type": "stream",
          "name": "stdout",
          "text": [
            "Model: \"sequential_1\"\n",
            "_________________________________________________________________\n",
            " Layer (type)                Output Shape              Param #   \n",
            "=================================================================\n",
            " embedding_1 (Embedding)     (None, 40, 20)            1094960   \n",
            "                                                                 \n",
            " lstm_2 (LSTM)               (None, 40, 80)            32320     \n",
            "                                                                 \n",
            " dropout_2 (Dropout)         (None, 40, 80)            0         \n",
            "                                                                 \n",
            " lstm_3 (LSTM)               (None, 40)                19360     \n",
            "                                                                 \n",
            " dropout_3 (Dropout)         (None, 40)                0         \n",
            "                                                                 \n",
            " dense_1 (Dense)             (None, 20)                820       \n",
            "                                                                 \n",
            "=================================================================\n",
            "Total params: 1147460 (4.38 MB)\n",
            "Trainable params: 1147460 (4.38 MB)\n",
            "Non-trainable params: 0 (0.00 Byte)\n",
            "_________________________________________________________________\n"
          ]
        }
      ],
      "source": [
        "from tensorflow import keras\n",
        "\n",
        "model = keras.models.load_model(\"emojiPred_lstmModel.h5\", compile=False)\n",
        "model.summary()"
      ]
    },
    {
      "cell_type": "code",
      "source": [
        "emoji_raw = open('us_mapping.txt','r',encoding=\"utf8\")\n",
        "\n",
        "emojis=[]\n",
        "for sentence in emoji_raw:\n",
        "    sentence = sentence.rstrip()\n",
        "    emojis.append(sentence)\n",
        "\n",
        "\n",
        "emoji_dict={}\n",
        "\n",
        "for e in emojis:\n",
        "    idx = int(e.split()[0])\n",
        "    emoji = e.split()[1]\n",
        "    emoji_dict[idx] = emoji"
      ],
      "metadata": {
        "id": "-OLsfqXWY3qS"
      },
      "execution_count": null,
      "outputs": []
    },
    {
      "cell_type": "code",
      "source": [
        "import string\n",
        "import re\n",
        "\n",
        "from tensorflow import keras\n",
        "emoji_predict_model = keras.models.load_model(\"emojiPred_lstmModel.h5\", compile=False)\n",
        "\n",
        "\n",
        "def tweet_clean(tweet):\n",
        "    tweet = str(tweet).lower()\n",
        "    rm_mention = re.sub(r'@[A-Za-z0-9]+', '', tweet)\n",
        "    rm_rt = re.sub(r'RT[/s]+', '', rm_mention)\n",
        "    rm_links = re.sub(r'http\\S+', '', rm_rt)\n",
        "    rm_links = re.sub(r'https?:\\/\\/\\S+','', rm_links)\n",
        "    rm_nums = re.sub('[0-9]+', '', rm_links)\n",
        "    rm_punc = [char for char in rm_nums if char not in string.punctuation]\n",
        "    rm_punc = ''.join(rm_punc)\n",
        "    cleaned = rm_punc\n",
        "\n",
        "    return cleaned\n",
        "\n",
        "\n",
        "# def predict_emoji(text, model=emoji_predict_model):\n",
        "#     text = tweet_clean(text)\n",
        "#     X_sequences = text\n",
        "#     predictions = np.argmax(model.predict(X_sequences), axis=1)\n",
        "#     emoji_idx = predictions[0]\n",
        "#     emoji = emoji_dict[emoji_idx]\n",
        "\n",
        "#     return emoji\n",
        "\n",
        "def predict_emoji(text, model=emoji_predict_model):\n",
        "    text = tweet_clean(text)\n",
        "\n",
        "    # Tokenize and pad the text\n",
        "    max_len = 40\n",
        "    tokenizer = Tokenizer(num_words=20)\n",
        "    tokenizer.fit_on_texts([text])\n",
        "    text_sequence = tokenizer.texts_to_sequences([text])\n",
        "    text_padded = pad_sequences(text_sequence, truncating=\"pre\", padding=\"pre\", maxlen=max_len)\n",
        "\n",
        "    # Make predictions\n",
        "    predictions = np.argmax(model.predict(text_padded), axis=1)\n",
        "    emoji_idx = predictions[0]\n",
        "    emoji = emoji_dict.get(emoji_idx, \"Unknown\")\n",
        "\n",
        "    return emoji\n"
      ],
      "metadata": {
        "id": "GSCONWbqV13i"
      },
      "execution_count": null,
      "outputs": []
    },
    {
      "cell_type": "code",
      "source": [
        "text = input(\"Enter tweet \\n\")\n",
        "\n",
        "print(\"\\nEmojified Tweet \\n\")\n",
        "print(text+\" \"+predict_emoji(text))"
      ],
      "metadata": {
        "colab": {
          "base_uri": "https://localhost:8080/"
        },
        "id": "Z-aZfuziV17G",
        "outputId": "665ec8b1-f4fa-4b3c-83a2-42b088cc1de0"
      },
      "execution_count": null,
      "outputs": [
        {
          "output_type": "stream",
          "name": "stdout",
          "text": [
            "Enter tweet \n",
            "Let's explore the North East University\n",
            "\n",
            "Emojified Tweet \n",
            "\n",
            "1/1 [==============================] - 0s 33ms/step\n",
            "Let's explore the North East University 📸\n"
          ]
        }
      ]
    },
    {
      "cell_type": "code",
      "source": [
        "text = input(\"Enter tweet \\n\")\n",
        "\n",
        "print(\"\\nEmojified Tweet \\n\")\n",
        "print(text+\" \"+predict_emoji(text))"
      ],
      "metadata": {
        "colab": {
          "base_uri": "https://localhost:8080/"
        },
        "id": "Y8LhNTlMcSZr",
        "outputId": "73ecfaf1-84d3-4eba-97f2-bff435cae4de"
      },
      "execution_count": null,
      "outputs": [
        {
          "output_type": "stream",
          "name": "stdout",
          "text": [
            "Enter tweet \n",
            "Asif sir is our supervisor for this project\n",
            "\n",
            "Emojified Tweet \n",
            "\n",
            "1/1 [==============================] - 0s 28ms/step\n",
            "Asif sir is our supervisor for this project ❤️\n"
          ]
        }
      ]
    },
    {
      "cell_type": "code",
      "source": [
        "text = input(\"Enter tweet \\n\")\n",
        "\n",
        "print(\"\\nEmojified Tweet \\n\")\n",
        "print(text+\" \"+predict_emoji(text))"
      ],
      "metadata": {
        "colab": {
          "base_uri": "https://localhost:8080/"
        },
        "id": "kEgoKVCpcSc0",
        "outputId": "0c948aa5-e0f7-47df-cba0-fff9fa53999d"
      },
      "execution_count": null,
      "outputs": [
        {
          "output_type": "stream",
          "name": "stdout",
          "text": [
            "Enter tweet \n",
            "we want more holidays\n",
            "\n",
            "Emojified Tweet \n",
            "\n",
            "1/1 [==============================] - 0s 45ms/step\n",
            "we want more holidays 😘\n"
          ]
        }
      ]
    }
  ],
  "metadata": {
    "colab": {
      "provenance": []
    },
    "kernelspec": {
      "display_name": "Python 3",
      "name": "python3"
    },
    "language_info": {
      "name": "python"
    }
  },
  "nbformat": 4,
  "nbformat_minor": 0
}