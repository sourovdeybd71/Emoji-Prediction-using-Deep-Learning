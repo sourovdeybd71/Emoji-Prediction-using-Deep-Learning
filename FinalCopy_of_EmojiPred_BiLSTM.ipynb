{
  "cells": [
    {
      "cell_type": "code",
      "execution_count": null,
      "metadata": {
        "id": "ERQpIN5qTbtx"
      },
      "outputs": [],
      "source": [
        "import numpy as np\n",
        "import pandas as pd\n",
        "import matplotlib.pyplot as plt\n",
        "import seaborn as sns\n",
        "\n",
        "import tensorflow as tf\n",
        "import tensorflow.keras"
      ]
    },
    {
      "cell_type": "code",
      "execution_count": null,
      "metadata": {
        "id": "5L9apimfTvXj"
      },
      "outputs": [],
      "source": [
        "df = pd.read_csv(\"cleaned_tweets.csv\")\n",
        "df.dropna(inplace=True)"
      ]
    },
    {
      "cell_type": "code",
      "execution_count": null,
      "metadata": {
        "colab": {
          "base_uri": "https://localhost:8080/",
          "height": 423
        },
        "id": "KYMK990aT1qh",
        "outputId": "dbd2403b-06f9-4b40-dc32-47dd53cef902"
      },
      "outputs": [
        {
          "output_type": "execute_result",
          "data": {
            "text/plain": [
              "                                                   Tweet  Label\n",
              "0         little throwback favourite person   water wall      0\n",
              "1             glam   yesterday kcon makeup   featherette      7\n",
              "2      democracy plaza wake stunning outcome decision...     11\n",
              "3                   amp vilo   walt disney magic kingdom      0\n",
              "4                                    galaxy far far away      2\n",
              "...                                                  ...    ...\n",
              "49995  ootd love chain new ring putaringonit odesigne...      1\n",
              "49996  met santa olaf   north pole today   north pole...      0\n",
              "49997  new york night strideby herelocationnyc seemyc...     11\n",
              "49998              kiss birthday girl   helzberg diamond      0\n",
              "49999  dinner priceless viewthank s anniversarydinner...      9\n",
              "\n",
              "[49973 rows x 2 columns]"
            ],
            "text/html": [
              "\n",
              "  <div id=\"df-3b10da7c-6ca1-4969-b4ed-dcc8e6d02049\" class=\"colab-df-container\">\n",
              "    <div>\n",
              "<style scoped>\n",
              "    .dataframe tbody tr th:only-of-type {\n",
              "        vertical-align: middle;\n",
              "    }\n",
              "\n",
              "    .dataframe tbody tr th {\n",
              "        vertical-align: top;\n",
              "    }\n",
              "\n",
              "    .dataframe thead th {\n",
              "        text-align: right;\n",
              "    }\n",
              "</style>\n",
              "<table border=\"1\" class=\"dataframe\">\n",
              "  <thead>\n",
              "    <tr style=\"text-align: right;\">\n",
              "      <th></th>\n",
              "      <th>Tweet</th>\n",
              "      <th>Label</th>\n",
              "    </tr>\n",
              "  </thead>\n",
              "  <tbody>\n",
              "    <tr>\n",
              "      <th>0</th>\n",
              "      <td>little throwback favourite person   water wall</td>\n",
              "      <td>0</td>\n",
              "    </tr>\n",
              "    <tr>\n",
              "      <th>1</th>\n",
              "      <td>glam   yesterday kcon makeup   featherette</td>\n",
              "      <td>7</td>\n",
              "    </tr>\n",
              "    <tr>\n",
              "      <th>2</th>\n",
              "      <td>democracy plaza wake stunning outcome decision...</td>\n",
              "      <td>11</td>\n",
              "    </tr>\n",
              "    <tr>\n",
              "      <th>3</th>\n",
              "      <td>amp vilo   walt disney magic kingdom</td>\n",
              "      <td>0</td>\n",
              "    </tr>\n",
              "    <tr>\n",
              "      <th>4</th>\n",
              "      <td>galaxy far far away</td>\n",
              "      <td>2</td>\n",
              "    </tr>\n",
              "    <tr>\n",
              "      <th>...</th>\n",
              "      <td>...</td>\n",
              "      <td>...</td>\n",
              "    </tr>\n",
              "    <tr>\n",
              "      <th>49995</th>\n",
              "      <td>ootd love chain new ring putaringonit odesigne...</td>\n",
              "      <td>1</td>\n",
              "    </tr>\n",
              "    <tr>\n",
              "      <th>49996</th>\n",
              "      <td>met santa olaf   north pole today   north pole...</td>\n",
              "      <td>0</td>\n",
              "    </tr>\n",
              "    <tr>\n",
              "      <th>49997</th>\n",
              "      <td>new york night strideby herelocationnyc seemyc...</td>\n",
              "      <td>11</td>\n",
              "    </tr>\n",
              "    <tr>\n",
              "      <th>49998</th>\n",
              "      <td>kiss birthday girl   helzberg diamond</td>\n",
              "      <td>0</td>\n",
              "    </tr>\n",
              "    <tr>\n",
              "      <th>49999</th>\n",
              "      <td>dinner priceless viewthank s anniversarydinner...</td>\n",
              "      <td>9</td>\n",
              "    </tr>\n",
              "  </tbody>\n",
              "</table>\n",
              "<p>49973 rows × 2 columns</p>\n",
              "</div>\n",
              "    <div class=\"colab-df-buttons\">\n",
              "\n",
              "  <div class=\"colab-df-container\">\n",
              "    <button class=\"colab-df-convert\" onclick=\"convertToInteractive('df-3b10da7c-6ca1-4969-b4ed-dcc8e6d02049')\"\n",
              "            title=\"Convert this dataframe to an interactive table.\"\n",
              "            style=\"display:none;\">\n",
              "\n",
              "  <svg xmlns=\"http://www.w3.org/2000/svg\" height=\"24px\" viewBox=\"0 -960 960 960\">\n",
              "    <path d=\"M120-120v-720h720v720H120Zm60-500h600v-160H180v160Zm220 220h160v-160H400v160Zm0 220h160v-160H400v160ZM180-400h160v-160H180v160Zm440 0h160v-160H620v160ZM180-180h160v-160H180v160Zm440 0h160v-160H620v160Z\"/>\n",
              "  </svg>\n",
              "    </button>\n",
              "\n",
              "  <style>\n",
              "    .colab-df-container {\n",
              "      display:flex;\n",
              "      gap: 12px;\n",
              "    }\n",
              "\n",
              "    .colab-df-convert {\n",
              "      background-color: #E8F0FE;\n",
              "      border: none;\n",
              "      border-radius: 50%;\n",
              "      cursor: pointer;\n",
              "      display: none;\n",
              "      fill: #1967D2;\n",
              "      height: 32px;\n",
              "      padding: 0 0 0 0;\n",
              "      width: 32px;\n",
              "    }\n",
              "\n",
              "    .colab-df-convert:hover {\n",
              "      background-color: #E2EBFA;\n",
              "      box-shadow: 0px 1px 2px rgba(60, 64, 67, 0.3), 0px 1px 3px 1px rgba(60, 64, 67, 0.15);\n",
              "      fill: #174EA6;\n",
              "    }\n",
              "\n",
              "    .colab-df-buttons div {\n",
              "      margin-bottom: 4px;\n",
              "    }\n",
              "\n",
              "    [theme=dark] .colab-df-convert {\n",
              "      background-color: #3B4455;\n",
              "      fill: #D2E3FC;\n",
              "    }\n",
              "\n",
              "    [theme=dark] .colab-df-convert:hover {\n",
              "      background-color: #434B5C;\n",
              "      box-shadow: 0px 1px 3px 1px rgba(0, 0, 0, 0.15);\n",
              "      filter: drop-shadow(0px 1px 2px rgba(0, 0, 0, 0.3));\n",
              "      fill: #FFFFFF;\n",
              "    }\n",
              "  </style>\n",
              "\n",
              "    <script>\n",
              "      const buttonEl =\n",
              "        document.querySelector('#df-3b10da7c-6ca1-4969-b4ed-dcc8e6d02049 button.colab-df-convert');\n",
              "      buttonEl.style.display =\n",
              "        google.colab.kernel.accessAllowed ? 'block' : 'none';\n",
              "\n",
              "      async function convertToInteractive(key) {\n",
              "        const element = document.querySelector('#df-3b10da7c-6ca1-4969-b4ed-dcc8e6d02049');\n",
              "        const dataTable =\n",
              "          await google.colab.kernel.invokeFunction('convertToInteractive',\n",
              "                                                    [key], {});\n",
              "        if (!dataTable) return;\n",
              "\n",
              "        const docLinkHtml = 'Like what you see? Visit the ' +\n",
              "          '<a target=\"_blank\" href=https://colab.research.google.com/notebooks/data_table.ipynb>data table notebook</a>'\n",
              "          + ' to learn more about interactive tables.';\n",
              "        element.innerHTML = '';\n",
              "        dataTable['output_type'] = 'display_data';\n",
              "        await google.colab.output.renderOutput(dataTable, element);\n",
              "        const docLink = document.createElement('div');\n",
              "        docLink.innerHTML = docLinkHtml;\n",
              "        element.appendChild(docLink);\n",
              "      }\n",
              "    </script>\n",
              "  </div>\n",
              "\n",
              "\n",
              "<div id=\"df-65a4bf6f-7242-4852-8f23-e45192763c76\">\n",
              "  <button class=\"colab-df-quickchart\" onclick=\"quickchart('df-65a4bf6f-7242-4852-8f23-e45192763c76')\"\n",
              "            title=\"Suggest charts.\"\n",
              "            style=\"display:none;\">\n",
              "\n",
              "<svg xmlns=\"http://www.w3.org/2000/svg\" height=\"24px\"viewBox=\"0 0 24 24\"\n",
              "     width=\"24px\">\n",
              "    <g>\n",
              "        <path d=\"M19 3H5c-1.1 0-2 .9-2 2v14c0 1.1.9 2 2 2h14c1.1 0 2-.9 2-2V5c0-1.1-.9-2-2-2zM9 17H7v-7h2v7zm4 0h-2V7h2v10zm4 0h-2v-4h2v4z\"/>\n",
              "    </g>\n",
              "</svg>\n",
              "  </button>\n",
              "\n",
              "<style>\n",
              "  .colab-df-quickchart {\n",
              "      --bg-color: #E8F0FE;\n",
              "      --fill-color: #1967D2;\n",
              "      --hover-bg-color: #E2EBFA;\n",
              "      --hover-fill-color: #174EA6;\n",
              "      --disabled-fill-color: #AAA;\n",
              "      --disabled-bg-color: #DDD;\n",
              "  }\n",
              "\n",
              "  [theme=dark] .colab-df-quickchart {\n",
              "      --bg-color: #3B4455;\n",
              "      --fill-color: #D2E3FC;\n",
              "      --hover-bg-color: #434B5C;\n",
              "      --hover-fill-color: #FFFFFF;\n",
              "      --disabled-bg-color: #3B4455;\n",
              "      --disabled-fill-color: #666;\n",
              "  }\n",
              "\n",
              "  .colab-df-quickchart {\n",
              "    background-color: var(--bg-color);\n",
              "    border: none;\n",
              "    border-radius: 50%;\n",
              "    cursor: pointer;\n",
              "    display: none;\n",
              "    fill: var(--fill-color);\n",
              "    height: 32px;\n",
              "    padding: 0;\n",
              "    width: 32px;\n",
              "  }\n",
              "\n",
              "  .colab-df-quickchart:hover {\n",
              "    background-color: var(--hover-bg-color);\n",
              "    box-shadow: 0 1px 2px rgba(60, 64, 67, 0.3), 0 1px 3px 1px rgba(60, 64, 67, 0.15);\n",
              "    fill: var(--button-hover-fill-color);\n",
              "  }\n",
              "\n",
              "  .colab-df-quickchart-complete:disabled,\n",
              "  .colab-df-quickchart-complete:disabled:hover {\n",
              "    background-color: var(--disabled-bg-color);\n",
              "    fill: var(--disabled-fill-color);\n",
              "    box-shadow: none;\n",
              "  }\n",
              "\n",
              "  .colab-df-spinner {\n",
              "    border: 2px solid var(--fill-color);\n",
              "    border-color: transparent;\n",
              "    border-bottom-color: var(--fill-color);\n",
              "    animation:\n",
              "      spin 1s steps(1) infinite;\n",
              "  }\n",
              "\n",
              "  @keyframes spin {\n",
              "    0% {\n",
              "      border-color: transparent;\n",
              "      border-bottom-color: var(--fill-color);\n",
              "      border-left-color: var(--fill-color);\n",
              "    }\n",
              "    20% {\n",
              "      border-color: transparent;\n",
              "      border-left-color: var(--fill-color);\n",
              "      border-top-color: var(--fill-color);\n",
              "    }\n",
              "    30% {\n",
              "      border-color: transparent;\n",
              "      border-left-color: var(--fill-color);\n",
              "      border-top-color: var(--fill-color);\n",
              "      border-right-color: var(--fill-color);\n",
              "    }\n",
              "    40% {\n",
              "      border-color: transparent;\n",
              "      border-right-color: var(--fill-color);\n",
              "      border-top-color: var(--fill-color);\n",
              "    }\n",
              "    60% {\n",
              "      border-color: transparent;\n",
              "      border-right-color: var(--fill-color);\n",
              "    }\n",
              "    80% {\n",
              "      border-color: transparent;\n",
              "      border-right-color: var(--fill-color);\n",
              "      border-bottom-color: var(--fill-color);\n",
              "    }\n",
              "    90% {\n",
              "      border-color: transparent;\n",
              "      border-bottom-color: var(--fill-color);\n",
              "    }\n",
              "  }\n",
              "</style>\n",
              "\n",
              "  <script>\n",
              "    async function quickchart(key) {\n",
              "      const quickchartButtonEl =\n",
              "        document.querySelector('#' + key + ' button');\n",
              "      quickchartButtonEl.disabled = true;  // To prevent multiple clicks.\n",
              "      quickchartButtonEl.classList.add('colab-df-spinner');\n",
              "      try {\n",
              "        const charts = await google.colab.kernel.invokeFunction(\n",
              "            'suggestCharts', [key], {});\n",
              "      } catch (error) {\n",
              "        console.error('Error during call to suggestCharts:', error);\n",
              "      }\n",
              "      quickchartButtonEl.classList.remove('colab-df-spinner');\n",
              "      quickchartButtonEl.classList.add('colab-df-quickchart-complete');\n",
              "    }\n",
              "    (() => {\n",
              "      let quickchartButtonEl =\n",
              "        document.querySelector('#df-65a4bf6f-7242-4852-8f23-e45192763c76 button');\n",
              "      quickchartButtonEl.style.display =\n",
              "        google.colab.kernel.accessAllowed ? 'block' : 'none';\n",
              "    })();\n",
              "  </script>\n",
              "</div>\n",
              "    </div>\n",
              "  </div>\n"
            ]
          },
          "metadata": {},
          "execution_count": 4
        }
      ],
      "source": [
        "df"
      ]
    },
    {
      "cell_type": "code",
      "execution_count": null,
      "metadata": {
        "id": "NNcUK5wkT2zp"
      },
      "outputs": [],
      "source": [
        "X = df[\"Tweet\"].values\n",
        "y = df[\"Label\"].values"
      ]
    },
    {
      "cell_type": "code",
      "execution_count": null,
      "metadata": {
        "id": "QbbV1lwCUX5q"
      },
      "outputs": [],
      "source": [
        "from imblearn.over_sampling import RandomOverSampler\n",
        "\n",
        "os = RandomOverSampler(random_state=42)\n",
        "X = X.reshape(-1,1)\n",
        "X, y = os.fit_resample(X, y)"
      ]
    },
    {
      "cell_type": "code",
      "execution_count": null,
      "metadata": {
        "colab": {
          "base_uri": "https://localhost:8080/"
        },
        "id": "65TLnvuqUZXx",
        "outputId": "8171a561-5177-4793-c2f4-68904f7b99fd"
      },
      "outputs": [
        {
          "output_type": "execute_result",
          "data": {
            "text/plain": [
              "(215140,)"
            ]
          },
          "metadata": {},
          "execution_count": 7
        }
      ],
      "source": [
        "X = X.reshape(-1,)\n",
        "X.shape\n"
      ]
    },
    {
      "cell_type": "code",
      "execution_count": null,
      "metadata": {
        "colab": {
          "base_uri": "https://localhost:8080/"
        },
        "id": "IKNJolR3c8mz",
        "outputId": "083b4110-69c2-4ada-99fb-7c687501ef6a"
      },
      "outputs": [
        {
          "output_type": "execute_result",
          "data": {
            "text/plain": [
              "array(['little throwback favourite person   water wall',\n",
              "       'glam   yesterday kcon makeup   featherette',\n",
              "       'democracy plaza wake stunning outcome decision   nbc news', ...,\n",
              "       'cute americasnexttopmodel luckstrikesnyc bepatientandwaitonit justdonatetosay   lucky',\n",
              "       'story life boymom momlife mysnuggieissoiled',\n",
              "       'work today love snow theweatherman americanninjawarrior   city norwalk'],\n",
              "      dtype=object)"
            ]
          },
          "metadata": {},
          "execution_count": 8
        }
      ],
      "source": [
        "X"
      ]
    },
    {
      "cell_type": "code",
      "execution_count": null,
      "metadata": {
        "id": "CCWbDk2reoDQ"
      },
      "outputs": [],
      "source": [
        "from keras.preprocessing.text import Tokenizer\n",
        "\n",
        "tokenizer = Tokenizer(num_words=80000)\n",
        "tokenizer.fit_on_texts(X)"
      ]
    },
    {
      "cell_type": "code",
      "execution_count": null,
      "metadata": {
        "colab": {
          "base_uri": "https://localhost:8080/"
        },
        "id": "kRrbPVW9eoGA",
        "outputId": "d26c798f-5a64-417f-ecbe-a38bbc5320f5"
      },
      "outputs": [
        {
          "output_type": "stream",
          "name": "stdout",
          "text": [
            "Text \n",
            " ['little throwback favourite person   water wall'\n",
            " 'glam   yesterday kcon makeup   featherette'\n",
            " 'democracy plaza wake stunning outcome decision   nbc news'\n",
            " 'amp vilo   walt disney magic kingdom' '  galaxy far far away'\n",
            " 'dinner fla tonight   panseared salmon couscous veggie salad yum dinner florida salmon'\n",
            " 'fav senior game congrats beating west   west salem'\n",
            " 'got formal best friend   phi mu jsu'\n",
            " 'cause miss little homies throwback cousinlove   indiana university'\n",
            " 'birthday kiss   madison wisconsin'] \n",
            "\n",
            "Sequences\n"
          ]
        },
        {
          "output_type": "execute_result",
          "data": {
            "text/plain": [
              "[[25, 328, 1673, 312, 509, 674],\n",
              " [2794, 191, 23386, 525, 23387],\n",
              " [6998, 539, 936, 1154, 8457, 2258, 5308, 1394],\n",
              " [6, 43157, 399, 57, 130, 240],\n",
              " [2405, 606, 606, 422],\n",
              " [141, 14841, 36, 43158, 2425, 43159, 3955, 1494, 1618, 141, 43, 2425],\n",
              " [373, 334, 97, 413, 4782, 137, 137, 2406],\n",
              " [18, 947, 19, 22, 876, 2606, 26955],\n",
              " [388, 86, 25, 1513, 328, 7281, 442, 16],\n",
              " [28, 564, 527, 696]]"
            ]
          },
          "metadata": {},
          "execution_count": 10
        }
      ],
      "source": [
        "print(\"Text \\n\",X[:10],'\\n')\n",
        "\n",
        "X_seqs = tokenizer.texts_to_sequences(X)\n",
        "print(\"Sequences\")\n",
        "X_seqs[:10]"
      ]
    },
    {
      "cell_type": "code",
      "execution_count": null,
      "metadata": {
        "colab": {
          "base_uri": "https://localhost:8080/"
        },
        "id": "mzOYGbdxfIsF",
        "outputId": "8999bdb0-e6b3-4a04-f3af-13b696125bfc"
      },
      "outputs": [
        {
          "output_type": "stream",
          "name": "stdout",
          "text": [
            "Word Mappings\n",
            "\n",
            "Index:  1 -> love\n",
            "Index:  2 -> new\n",
            "Index:  3 -> day\n",
            "Index:  4 -> nt\n",
            "Index:  5 -> happy\n",
            "Index:  6 -> amp\n",
            "Index:  7 -> beach\n",
            "Index:  8 -> christmas\n",
            "Index:  9 -> time\n"
          ]
        }
      ],
      "source": [
        "idx2words = tokenizer.index_word\n",
        "\n",
        "print(\"Word Mappings\\n\")\n",
        "for i in range(1,10):\n",
        "    print(\"Index: \",i, \"->\",idx2words[i])"
      ]
    },
    {
      "cell_type": "code",
      "execution_count": null,
      "metadata": {
        "colab": {
          "base_uri": "https://localhost:8080/"
        },
        "id": "lrPxRXwifPNK",
        "outputId": "a83b822d-7613-436a-c258-9618d8ade3c0"
      },
      "outputs": [
        {
          "output_type": "stream",
          "name": "stdout",
          "text": [
            "Vocabulary size : 54747\n"
          ]
        }
      ],
      "source": [
        "vocab_size = len(tokenizer.index_word)\n",
        "print(\"Vocabulary size :\",len(tokenizer.index_word))"
      ]
    },
    {
      "cell_type": "code",
      "execution_count": null,
      "metadata": {
        "colab": {
          "background_save": true,
          "base_uri": "https://localhost:8080/",
          "height": 430
        },
        "id": "1A5B_IBKffoa",
        "outputId": "1a0409ad-9be9-475a-f0a6-20f7b15ddeb5"
      },
      "outputs": [
        {
          "data": {
            "image/png": "[encoded data removed]",
            "text/plain": [
              "<Figure size 640x480 with 1 Axes>"
            ]
          },
          "metadata": {},
          "output_type": "display_data"
        }
      ],
      "source": [
        "lens = [len(seq) for seq in X_seqs]\n",
        "sns.countplot(x=lens)\n",
        "plt.show()"
      ]
    },
    {
      "cell_type": "code",
      "execution_count": null,
      "metadata": {
        "id": "8lpO2lEVf3_q"
      },
      "outputs": [],
      "source": [
        "\n",
        "from keras.preprocessing.sequence import pad_sequences\n",
        "\n",
        "max_len=40\n",
        "X_seqs_pd = pad_sequences(X_seqs, truncating=\"pre\", padding=\"pre\", maxlen=max_len)"
      ]
    },
    {
      "cell_type": "code",
      "execution_count": null,
      "metadata": {
        "colab": {
          "background_save": true,
          "base_uri": "https://localhost:8080/"
        },
        "id": "MaEVoLMVgtaq",
        "outputId": "56db0b15-5984-46b4-c915-350523817dca"
      },
      "outputs": [
        {
          "name": "stdout",
          "output_type": "stream",
          "text": [
            "Before Padding\n",
            "[[25, 328, 1673, 312, 509, 674]]\n",
            "\n",
            "After Padding\n",
            "[[   0    0    0    0    0    0    0    0    0    0    0    0    0    0\n",
            "     0    0    0    0    0    0    0    0    0    0    0    0    0    0\n",
            "     0    0    0    0    0    0   25  328 1673  312  509  674]]\n"
          ]
        }
      ],
      "source": [
        "print(\"Before Padding\")\n",
        "print(X_seqs[:1])\n",
        "\n",
        "print(\"\\nAfter Padding\")\n",
        "print(X_seqs_pd[:1])"
      ]
    },
    {
      "cell_type": "code",
      "execution_count": null,
      "metadata": {
        "colab": {
          "base_uri": "https://localhost:8080/"
        },
        "id": "hto_qmaKgxec",
        "outputId": "ae6bceef-40e0-4e42-ebbb-2598eef5f6da"
      },
      "outputs": [
        {
          "output_type": "stream",
          "name": "stdout",
          "text": [
            "Training X Dim  (150598, 40)\n",
            "Training y Dim  (150598,)\n",
            "Test X Dim  (64542, 40)\n",
            "Test y Dim  (64542,)\n"
          ]
        }
      ],
      "source": [
        "from sklearn.model_selection import train_test_split\n",
        "\n",
        "X_train, X_test ,y_train, y_test = train_test_split(X_seqs_pd, y, test_size=0.3, random_state=105)\n",
        "print(\"Training X Dim \",X_train.shape)\n",
        "print(\"Training y Dim \",y_train.shape)\n",
        "\n",
        "print(\"Test X Dim \",X_test.shape)\n",
        "print(\"Test y Dim \",y_test.shape)"
      ]
    },
    {
      "cell_type": "code",
      "execution_count": null,
      "metadata": {
        "colab": {
          "base_uri": "https://localhost:8080/"
        },
        "id": "hTkkQle5pdXe",
        "outputId": "467a8992-a860-47d2-aa44-6cf5d54bcb00"
      },
      "outputs": [
        {
          "output_type": "stream",
          "name": "stdout",
          "text": [
            "Model: \"sequential\"\n",
            "_________________________________________________________________\n",
            " Layer (type)                Output Shape              Param #   \n",
            "=================================================================\n",
            " embedding (Embedding)       (None, 40, 128)           7007744   \n",
            "                                                                 \n",
            " bidirectional (Bidirection  (None, 40, 160)           133760    \n",
            " al)                                                             \n",
            "                                                                 \n",
            " bidirectional_1 (Bidirecti  (None, 40, 160)           154240    \n",
            " onal)                                                           \n",
            "                                                                 \n",
            " global_max_pooling1d (Glob  (None, 160)               0         \n",
            " alMaxPooling1D)                                                 \n",
            "                                                                 \n",
            " dropout (Dropout)           (None, 160)               0         \n",
            "                                                                 \n",
            " dense (Dense)               (None, 64)                10304     \n",
            "                                                                 \n",
            " dropout_1 (Dropout)         (None, 64)                0         \n",
            "                                                                 \n",
            " dense_1 (Dense)             (None, 20)                1300      \n",
            "                                                                 \n",
            "=================================================================\n",
            "Total params: 7307348 (27.88 MB)\n",
            "Trainable params: 7307348 (27.88 MB)\n",
            "Non-trainable params: 0 (0.00 Byte)\n",
            "_________________________________________________________________\n"
          ]
        }
      ],
      "source": [
        "from keras.models import Sequential\n",
        "from keras.layers import Dropout, Dense, LSTM, Bidirectional,Embedding, GlobalMaxPool1D\n",
        "\n",
        "\n",
        "\n",
        "vocabulary_size = vocab_size\n",
        "seq_len = 40\n",
        "embed_len=128\n",
        "\n",
        "\n",
        "model = Sequential()\n",
        "model.add(Embedding(vocabulary_size+1, embed_len, input_length=seq_len))\n",
        "model.add(Bidirectional(LSTM(80,return_sequences=True)))\n",
        "model.add(Bidirectional(LSTM(80,return_sequences=True)))\n",
        "model.add(GlobalMaxPool1D())\n",
        "model.add(Dropout(0.5))\n",
        "model.add(Dense(64, activation=\"relu\"))\n",
        "model.add(Dropout(0.5))\n",
        "model.add(Dense(20, activation=\"softmax\"))\n",
        "\n",
        "model.summary()"
      ]
    },
    {
      "cell_type": "code",
      "execution_count": null,
      "metadata": {
        "id": "CdmbrNmGpisc"
      },
      "outputs": [],
      "source": [
        "from keras.utils import to_categorical\n",
        "\n",
        "y_train_cat = to_categorical(y_train)\n",
        "y_test_cat = to_categorical(y_test)"
      ]
    },
    {
      "cell_type": "code",
      "execution_count": null,
      "metadata": {
        "id": "hIaFDINhp74j"
      },
      "outputs": [],
      "source": [
        "from tensorflow.keras.callbacks import EarlyStopping\n",
        "\n",
        "early_stop = EarlyStopping(monitor=\"val_loss\", mode=\"min\", patience=1,verbose=1)\n",
        "\n",
        "model.compile(loss = 'categorical_crossentropy',\n",
        "             optimizer = \"adam\",\n",
        "             metrics=[\"accuracy\"])"
      ]
    },
    {
      "cell_type": "code",
      "execution_count": null,
      "metadata": {
        "colab": {
          "base_uri": "https://localhost:8080/"
        },
        "id": "wQzdSSd-pl48",
        "outputId": "078c807f-24df-4376-fb63-b183c1158766"
      },
      "outputs": [
        {
          "output_type": "stream",
          "name": "stdout",
          "text": [
            "Epoch 1/15\n",
            "1177/1177 [==============================] - 635s 530ms/step - loss: 2.4068 - accuracy: 0.2615 - val_loss: 1.5614 - val_accuracy: 0.5346\n",
            "Epoch 2/15\n",
            "1177/1177 [==============================] - 626s 532ms/step - loss: 1.2233 - accuracy: 0.6440 - val_loss: 0.9433 - val_accuracy: 0.7232\n",
            "Epoch 3/15\n",
            "1177/1177 [==============================] - 643s 547ms/step - loss: 0.7567 - accuracy: 0.7816 - val_loss: 0.7292 - val_accuracy: 0.7911\n",
            "Epoch 4/15\n",
            "1177/1177 [==============================] - 638s 543ms/step - loss: 0.5486 - accuracy: 0.8435 - val_loss: 0.6218 - val_accuracy: 0.8290\n",
            "Epoch 5/15\n",
            "1177/1177 [==============================] - 632s 537ms/step - loss: 0.4213 - accuracy: 0.8816 - val_loss: 0.5790 - val_accuracy: 0.8507\n",
            "Epoch 6/15\n",
            "1177/1177 [==============================] - 643s 547ms/step - loss: 0.3399 - accuracy: 0.9050 - val_loss: 0.5620 - val_accuracy: 0.8621\n",
            "Epoch 7/15\n",
            "1177/1177 [==============================] - 637s 541ms/step - loss: 0.2908 - accuracy: 0.9192 - val_loss: 0.5384 - val_accuracy: 0.8760\n",
            "Epoch 8/15\n",
            "1177/1177 [==============================] - 640s 544ms/step - loss: 0.2435 - accuracy: 0.9319 - val_loss: 0.5394 - val_accuracy: 0.8813\n",
            "Epoch 8: early stopping\n"
          ]
        },
        {
          "output_type": "execute_result",
          "data": {
            "text/plain": [
              "<keras.src.callbacks.History at 0x7b8d95037af0>"
            ]
          },
          "metadata": {},
          "execution_count": 19
        }
      ],
      "source": [
        "batch_size=128\n",
        "epochs = 15\n",
        "\n",
        "model.fit(X_train, y_train_cat, batch_size=batch_size, epochs = epochs,\n",
        "          shuffle=True, validation_data=(X_test, y_test_cat), callbacks=[early_stop])"
      ]
    },
    {
      "cell_type": "code",
      "execution_count": null,
      "metadata": {
        "colab": {
          "base_uri": "https://localhost:8080/"
        },
        "id": "oiJNVdk0tRQr",
        "outputId": "ff54bcfa-2404-44fb-c8d4-6a5a28c1007e"
      },
      "outputs": [
        {
          "output_type": "stream",
          "name": "stdout",
          "text": [
            "505/505 [==============================] - 68s 134ms/step - loss: 0.5394 - accuracy: 0.8813\n"
          ]
        },
        {
          "output_type": "execute_result",
          "data": {
            "text/plain": [
              "[0.5393697619438171, 0.8813331127166748]"
            ]
          },
          "metadata": {},
          "execution_count": 21
        }
      ],
      "source": [
        "batch_size=128\n",
        "model.evaluate(X_test, y_test_cat, batch_size=batch_size)"
      ]
    },
    {
      "cell_type": "code",
      "execution_count": null,
      "metadata": {
        "colab": {
          "base_uri": "https://localhost:8080/",
          "height": 53
        },
        "id": "QN7jTu2RtUKw",
        "outputId": "dc617ff0-a86b-4f18-a207-3da5344a3be5"
      },
      "outputs": [
        {
          "output_type": "execute_result",
          "data": {
            "text/plain": [
              "Empty DataFrame\n",
              "Columns: []\n",
              "Index: []"
            ],
            "text/html": [
              "\n",
              "  <div id=\"df-9dc4401c-a63b-4b40-9b5e-232e293161f3\" class=\"colab-df-container\">\n",
              "    <div>\n",
              "<style scoped>\n",
              "    .dataframe tbody tr th:only-of-type {\n",
              "        vertical-align: middle;\n",
              "    }\n",
              "\n",
              "    .dataframe tbody tr th {\n",
              "        vertical-align: top;\n",
              "    }\n",
              "\n",
              "    .dataframe thead th {\n",
              "        text-align: right;\n",
              "    }\n",
              "</style>\n",
              "<table border=\"1\" class=\"dataframe\">\n",
              "  <thead>\n",
              "    <tr style=\"text-align: right;\">\n",
              "      <th></th>\n",
              "    </tr>\n",
              "  </thead>\n",
              "  <tbody>\n",
              "  </tbody>\n",
              "</table>\n",
              "</div>\n",
              "    <div class=\"colab-df-buttons\">\n",
              "\n",
              "  <div class=\"colab-df-container\">\n",
              "    <button class=\"colab-df-convert\" onclick=\"convertToInteractive('df-9dc4401c-a63b-4b40-9b5e-232e293161f3')\"\n",
              "            title=\"Convert this dataframe to an interactive table.\"\n",
              "            style=\"display:none;\">\n",
              "\n",
              "  <svg xmlns=\"http://www.w3.org/2000/svg\" height=\"24px\" viewBox=\"0 -960 960 960\">\n",
              "    <path d=\"M120-120v-720h720v720H120Zm60-500h600v-160H180v160Zm220 220h160v-160H400v160Zm0 220h160v-160H400v160ZM180-400h160v-160H180v160Zm440 0h160v-160H620v160ZM180-180h160v-160H180v160Zm440 0h160v-160H620v160Z\"/>\n",
              "  </svg>\n",
              "    </button>\n",
              "\n",
              "  <style>\n",
              "    .colab-df-container {\n",
              "      display:flex;\n",
              "      gap: 12px;\n",
              "    }\n",
              "\n",
              "    .colab-df-convert {\n",
              "      background-color: #E8F0FE;\n",
              "      border: none;\n",
              "      border-radius: 50%;\n",
              "      cursor: pointer;\n",
              "      display: none;\n",
              "      fill: #1967D2;\n",
              "      height: 32px;\n",
              "      padding: 0 0 0 0;\n",
              "      width: 32px;\n",
              "    }\n",
              "\n",
              "    .colab-df-convert:hover {\n",
              "      background-color: #E2EBFA;\n",
              "      box-shadow: 0px 1px 2px rgba(60, 64, 67, 0.3), 0px 1px 3px 1px rgba(60, 64, 67, 0.15);\n",
              "      fill: #174EA6;\n",
              "    }\n",
              "\n",
              "    .colab-df-buttons div {\n",
              "      margin-bottom: 4px;\n",
              "    }\n",
              "\n",
              "    [theme=dark] .colab-df-convert {\n",
              "      background-color: #3B4455;\n",
              "      fill: #D2E3FC;\n",
              "    }\n",
              "\n",
              "    [theme=dark] .colab-df-convert:hover {\n",
              "      background-color: #434B5C;\n",
              "      box-shadow: 0px 1px 3px 1px rgba(0, 0, 0, 0.15);\n",
              "      filter: drop-shadow(0px 1px 2px rgba(0, 0, 0, 0.3));\n",
              "      fill: #FFFFFF;\n",
              "    }\n",
              "  </style>\n",
              "\n",
              "    <script>\n",
              "      const buttonEl =\n",
              "        document.querySelector('#df-9dc4401c-a63b-4b40-9b5e-232e293161f3 button.colab-df-convert');\n",
              "      buttonEl.style.display =\n",
              "        google.colab.kernel.accessAllowed ? 'block' : 'none';\n",
              "\n",
              "      async function convertToInteractive(key) {\n",
              "        const element = document.querySelector('#df-9dc4401c-a63b-4b40-9b5e-232e293161f3');\n",
              "        const dataTable =\n",
              "          await google.colab.kernel.invokeFunction('convertToInteractive',\n",
              "                                                    [key], {});\n",
              "        if (!dataTable) return;\n",
              "\n",
              "        const docLinkHtml = 'Like what you see? Visit the ' +\n",
              "          '<a target=\"_blank\" href=https://colab.research.google.com/notebooks/data_table.ipynb>data table notebook</a>'\n",
              "          + ' to learn more about interactive tables.';\n",
              "        element.innerHTML = '';\n",
              "        dataTable['output_type'] = 'display_data';\n",
              "        await google.colab.output.renderOutput(dataTable, element);\n",
              "        const docLink = document.createElement('div');\n",
              "        docLink.innerHTML = docLinkHtml;\n",
              "        element.appendChild(docLink);\n",
              "      }\n",
              "    </script>\n",
              "  </div>\n",
              "\n",
              "    </div>\n",
              "  </div>\n"
            ]
          },
          "metadata": {},
          "execution_count": 22
        }
      ],
      "source": [
        "loss = pd.DataFrame(model.history.history)\n",
        "loss"
      ]
    },
    {
      "cell_type": "code",
      "execution_count": null,
      "metadata": {
        "colab": {
          "base_uri": "https://localhost:8080/"
        },
        "id": "eEOvF2zYt8Wd",
        "outputId": "515d042e-4cec-41bd-a602-b7f6bf0a4196"
      },
      "outputs": [
        {
          "output_type": "stream",
          "name": "stdout",
          "text": [
            "2017/2017 [==============================] - 135s 66ms/step\n",
            "              precision    recall  f1-score   support\n",
            "\n",
            "           0       0.55      0.22      0.32      3210\n",
            "           1       0.76      0.63      0.69      3238\n",
            "           2       0.85      0.69      0.76      3269\n",
            "           3       0.75      0.84      0.79      3240\n",
            "           4       0.91      0.92      0.91      3197\n",
            "           5       0.87      0.86      0.87      3247\n",
            "           6       0.91      0.92      0.91      3251\n",
            "           7       0.87      0.93      0.90      3108\n",
            "           8       0.85      0.95      0.90      3226\n",
            "           9       0.88      0.92      0.90      3185\n",
            "          10       0.95      0.97      0.96      3221\n",
            "          11       0.94      0.96      0.95      3262\n",
            "          12       0.94      0.97      0.96      3244\n",
            "          13       0.83      0.98      0.90      3188\n",
            "          14       0.92      0.98      0.95      3335\n",
            "          15       0.88      0.98      0.93      3249\n",
            "          16       0.94      0.97      0.95      3232\n",
            "          17       0.92      0.99      0.95      3183\n",
            "          18       0.97      0.96      0.97      3209\n",
            "          19       0.94      0.97      0.96      3248\n",
            "\n",
            "    accuracy                           0.88     64542\n",
            "   macro avg       0.87      0.88      0.87     64542\n",
            "weighted avg       0.87      0.88      0.87     64542\n",
            "\n"
          ]
        }
      ],
      "source": [
        "from sklearn.metrics import classification_report, confusion_matrix\n",
        "\n",
        "# predictions = model.predict_classes(X_test)\n",
        "# print(classification_report(y_test_cat, predictions))\n",
        "predicted_probabilities = model.predict(X_test)\n",
        "\n",
        "predicted_classes = np.argmax(predicted_probabilities, axis=1)\n",
        "\n",
        "true_classes = np.argmax(y_test_cat, axis=1)\n",
        "\n",
        "print(classification_report(true_classes, predicted_classes))"
      ]
    },
    {
      "cell_type": "code",
      "source": [
        "import seaborn as sns\n",
        "import matplotlib.pyplot as plt\n",
        "from sklearn.metrics import confusion_matrix\n",
        "\n",
        "cm = confusion_matrix(true_classes, predicted_classes)\n"
      ],
      "metadata": {
        "id": "z7CzHnqrTlBh"
      },
      "execution_count": null,
      "outputs": []
    },
    {
      "cell_type": "code",
      "source": [
        "# Create a heatmap using seaborn\n",
        "plt.figure(figsize=(12, 10))\n",
        "sns.heatmap(cm, annot=True, fmt=\"d\", cmap=\"Greens\", linewidths=0.5)\n",
        "plt.xlabel('Predicted')\n",
        "plt.ylabel('True')\n",
        "plt.title('Confusion Matrix Heatmap for bi-LSTM')\n",
        "plt.show()"
      ],
      "metadata": {
        "colab": {
          "base_uri": "https://localhost:8080/",
          "height": 872
        },
        "id": "vsUo6V7KTt5P",
        "outputId": "7b2d0497-fbb2-4848-f2cc-cc46c6bc0509"
      },
      "execution_count": null,
      "outputs": [
        {
          "output_type": "display_data",
          "data": {
            "text/plain": [
              "<Figure size 1200x1000 with 2 Axes>"
            ],
            "image/png": "[encoded data removed]"
          },
          "metadata": {}
        }
      ]
    },
    {
      "cell_type": "code",
      "source": [
        "model.save(\"emojiPred_bilstmModel.h5\")"
      ],
      "metadata": {
        "colab": {
          "base_uri": "https://localhost:8080/"
        },
        "id": "lFaHmbiFT3kN",
        "outputId": "6ec836fb-388f-4881-8893-2c0a24166b9d"
      },
      "execution_count": null,
      "outputs": [
        {
          "output_type": "stream",
          "name": "stderr",
          "text": [
            "/usr/local/lib/python3.10/dist-packages/keras/src/engine/training.py:3079: UserWarning: You are saving your model as an HDF5 file via `model.save()`. This file format is considered legacy. We recommend using instead the native Keras format, e.g. `model.save('my_model.keras')`.\n",
            "  saving_api.save_model(\n"
          ]
        }
      ]
    },
    {
      "cell_type": "code",
      "source": [
        "emoji_raw = open('us_mapping.txt','r',encoding=\"utf8\")\n",
        "\n",
        "emojis=[]\n",
        "for sentence in emoji_raw:\n",
        "    sentence = sentence.rstrip()\n",
        "    emojis.append(sentence)\n",
        "\n",
        "\n",
        "emoji_dict={}\n",
        "\n",
        "for e in emojis:\n",
        "    idx = int(e.split()[0])\n",
        "    emoji = e.split()[1]\n",
        "    emoji_dict[idx] = emoji"
      ],
      "metadata": {
        "id": "DdElW1NHT3su"
      },
      "execution_count": null,
      "outputs": []
    },
    {
      "cell_type": "code",
      "source": [
        "import string\n",
        "import re\n",
        "\n",
        "from tensorflow import keras\n",
        "emoji_predict_model = keras.models.load_model(\"emojiPred_bilstmModel.h5\", compile=False)\n",
        "\n",
        "\n",
        "def tweet_clean(tweet):\n",
        "    tweet = str(tweet).lower()\n",
        "    rm_mention = re.sub(r'@[A-Za-z0-9]+', '', tweet)\n",
        "    rm_rt = re.sub(r'RT[/s]+', '', rm_mention)\n",
        "    rm_links = re.sub(r'http\\S+', '', rm_rt)\n",
        "    rm_links = re.sub(r'https?:\\/\\/\\S+','', rm_links)\n",
        "    rm_nums = re.sub('[0-9]+', '', rm_links)\n",
        "    rm_punc = [char for char in rm_nums if char not in string.punctuation]\n",
        "    rm_punc = ''.join(rm_punc)\n",
        "    cleaned = rm_punc\n",
        "\n",
        "    return cleaned\n",
        "\n",
        "\n",
        "# def predict_emoji(text, model=emoji_predict_model):\n",
        "#     text = tweet_clean(text)\n",
        "#     X_sequences = text\n",
        "#     predictions = np.argmax(model.predict(X_sequences), axis=1)\n",
        "#     emoji_idx = predictions[0]\n",
        "#     emoji = emoji_dict[emoji_idx]\n",
        "\n",
        "#     return emoji\n",
        "\n",
        "def predict_emoji(text, model=emoji_predict_model):\n",
        "    text = tweet_clean(text)\n",
        "\n",
        "    # Tokenize and pad the text\n",
        "    max_len = 40\n",
        "    tokenizer = Tokenizer(num_words=20)\n",
        "    tokenizer.fit_on_texts([text])\n",
        "    text_sequence = tokenizer.texts_to_sequences([text])\n",
        "    text_padded = pad_sequences(text_sequence, truncating=\"pre\", padding=\"pre\", maxlen=max_len)\n",
        "\n",
        "    # Make predictions\n",
        "    predictions = np.argmax(model.predict(text_padded), axis=1)\n",
        "    emoji_idx = predictions[0]\n",
        "    emoji = emoji_dict.get(emoji_idx, \"Unknown\")\n",
        "\n",
        "    return emoji\n"
      ],
      "metadata": {
        "id": "7TKfZIfYT3x1"
      },
      "execution_count": null,
      "outputs": []
    },
    {
      "cell_type": "code",
      "source": [
        "text = input(\"Enter tweet \\n\")\n",
        "\n",
        "print(\"\\nEmojified Tweet \\n\")\n",
        "print(text+\" \"+predict_emoji(text))"
      ],
      "metadata": {
        "colab": {
          "base_uri": "https://localhost:8080/"
        },
        "id": "klNHW6nDVWkF",
        "outputId": "224a7bb3-3850-4965-b6f2-f612b88e06fd"
      },
      "execution_count": null,
      "outputs": [
        {
          "output_type": "stream",
          "name": "stdout",
          "text": [
            "Enter tweet \n",
            "Winter is coming\n",
            "\n",
            "Emojified Tweet \n",
            "\n",
            "1/1 [==============================] - 0s 71ms/step\n",
            "Winter is coming 💕\n"
          ]
        }
      ]
    }
  ],
  "metadata": {
    "colab": {
      "provenance": []
    },
    "kernelspec": {
      "display_name": "Python 3",
      "name": "python3"
    },
    "language_info": {
      "name": "python"
    }
  },
  "nbformat": 4,
  "nbformat_minor": 0
}